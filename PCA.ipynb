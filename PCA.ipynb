{
 "cells": [
  {
   "cell_type": "code",
   "execution_count": 2,
   "metadata": {},
   "outputs": [],
   "source": [
    "import numpy as np"
   ]
  },
  {
   "cell_type": "code",
   "execution_count": 38,
   "metadata": {},
   "outputs": [],
   "source": [
    "#define matrix\n",
    "np.random.seed(23)\n",
    "A = np.random.rand(4,3) #matriz simulada\n",
    "\n",
    "# Center in mean\n",
    "A_center = A - np.mean(A,axis=0)\n",
    "\n",
    "# Calculating the covariance matrix of the centered data.\n",
    "cov_mat = np.cov(A_center , rowvar = False) #rowvar=False to set columns as variables\n",
    "\n",
    "# Eigenvalores and eigenvectores from covariance matrix\n",
    "eigen_values , eigen_vectors = np.linalg.eigh(cov_mat)\n",
    "\n",
    "#sort the eigenvalues and eigenvectors in descending order\n",
    "sorted_index = np.argsort(eigen_values)[::-1]\n",
    " \n",
    "sorted_eigenvalue = eigen_values[sorted_index]\n",
    "\n",
    "sorted_eigenvectors = eigen_vectors[:,sorted_index]\n",
    "\n",
    "# select dimension n (components)\n",
    " \n",
    "n_components = 2 \n",
    "eigenvector_subset = sorted_eigenvectors[:,0:n_components]\n",
    "\n",
    "A_PCA = np.dot(eigenvector_subset.transpose() , A_center.transpose() ).transpose()"
   ]
  },
  {
   "cell_type": "code",
   "execution_count": 40,
   "metadata": {},
   "outputs": [],
   "source": [
    "# select the first n eigenvectors, n is desired dimension\n",
    "# of our final reduced data.\n",
    " \n",
    "n_components = 2 #you can select any number of components.\n",
    "eigenvector_subset = sorted_eigenvectors[:,0:n_components]"
   ]
  },
  {
   "cell_type": "code",
   "execution_count": 63,
   "metadata": {},
   "outputs": [],
   "source": [
    "# tolerancia = 0.00005\n",
    "# B = np.matmul(A,np.matrix.transpose(A))\n",
    "# U = np.linalg.eig(B)[1]\n",
    "# C = np.matmul(np.matrix.transpose(A),A)\n",
    "# V = np.linalg.eig(C)[1]\n",
    "# D = np.zeros((4,3))\n",
    "# eigen_B = np.linalg.eig(B)[0][np.linalg.eig(B)[0]>0.00005]\n",
    "# np.fill_diagonal(D,eigen_B)"
   ]
  }
 ],
 "metadata": {
  "kernelspec": {
   "display_name": "base",
   "language": "python",
   "name": "python3"
  },
  "language_info": {
   "codemirror_mode": {
    "name": "ipython",
    "version": 3
   },
   "file_extension": ".py",
   "mimetype": "text/x-python",
   "name": "python",
   "nbconvert_exporter": "python",
   "pygments_lexer": "ipython3",
   "version": "3.10.9"
  },
  "orig_nbformat": 4
 },
 "nbformat": 4,
 "nbformat_minor": 2
}
